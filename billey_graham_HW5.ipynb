{
 "cells": [
  {
   "cell_type": "markdown",
   "metadata": {},
   "source": [
    "# ISYE 6740 - Machine Learning\n",
    "## Homework 5 - Graham Billey"
   ]
  },
  {
   "cell_type": "markdown",
   "metadata": {},
   "source": [
    "### 1. SVM."
   ]
  },
  {
   "cell_type": "markdown",
   "metadata": {},
   "source": [
    "**a) Explain why we can set `c=1` to derive the SVM formulation?**"
   ]
  },
  {
   "cell_type": "markdown",
   "metadata": {},
   "source": [
    "To find the SVM classifier, we want to maximize the margin $\\gamma = \\frac{2c}{||\\vec w||}$. Since $\\vec w$ is the normal vector to the decision boundary, we really only care about the direction $\\vec w$ is pointing. We aren't concerned with the length of $\\vec w$. \n",
    "\n",
    "Since $c$ only affects the length of $\\vec w$ and not the direction, we can drop it as a constant to make the future derivation easier."
   ]
  },
  {
   "cell_type": "markdown",
   "metadata": {},
   "source": [
    "**b) Using Lagrangian dual formulation, show that the weight vector can be represented as:**\n",
    "\n",
    "$$ \\vec w = \\sum_{i=1}^{n} \\alpha_i y_y x_i $$\n",
    "\n",
    "**where $\\alpha_i \\geq 0$ are the dual variables. What does this imply in terms of how to relate data to $\\vec w$?**"
   ]
  },
  {
   "cell_type": "markdown",
   "metadata": {},
   "source": [
    "The dual problem can be written as:\n",
    "\n",
    "$$ L(\\vec w, \\vec \\alpha, b) = \\frac{1}{2} \\vec w^T \\vec w + \\sum_{i} \\alpha_i (1 - y_i (\\vec w^T x_i + b))$$\n",
    "\n",
    "We know that maximizing the dual problem is equivalent to minimizing the primal problem. We can maximize $L$ by taking the derivatives w.r.t. $\\vec w$ and $b$ and setting it equal to $0$.\n",
    "\n",
    "$$ \\frac{\\partial L}{\\partial \\vec w} = \\vec w - \\sum_{i} \\alpha_i y_i x_i = 0 $$\n",
    "\n",
    "Thus,\n",
    "\n",
    "$$ \\vec w = \\sum_{i=1}^{n} \\alpha_i y_i x_i  $$\n",
    "\n",
    "This shows that $\\vec w$ is a linear combination of the data itself. "
   ]
  },
  {
   "cell_type": "markdown",
   "metadata": {},
   "source": [
    "**c) Explain why only the data points on the \"margin\" will contribute to the sum above, i.e. playing a role in defining $\\vec w$.**"
   ]
  },
  {
   "cell_type": "markdown",
   "metadata": {},
   "source": [
    "Back to the Lagrangian formulation of the original problem:\n",
    "\n",
    "$$ L(\\vec w, \\vec \\alpha, b) = \\frac{1}{2} \\vec w^T \\vec w + \\sum_{i} \\alpha_i g_i(\\vec w) $$\n",
    "\n",
    "$$ \\quad\\quad\\quad\\quad\\quad\\quad\\quad\\quad\\quad = \\frac{1}{2} \\vec w^T \\vec w + \\sum_{i} \\alpha_i (1 - y_i (\\vec w^T x_i + b))$$\n",
    "\n",
    "One of the KKT conditions states that at the optimal solution, each $ \\alpha_i g_i(\\vec w) = 0$. Therefore either $\\alpha_i = 0$ or $g_i(\\vec w) = 0$.\n",
    "\n",
    "From what we showed above, for a point on the margin each $\\alpha_i > 0$. Therefore $g_i(\\vec w) = 0$. \n",
    "\n",
    "Therefore the points on the margin do contribute to $\\vec w$.\n",
    "\n",
    "**For points not on the margin $\\alpha_i = 0$ and $g_i(\\vec w) < 0$. Since $\\vec w$ is formed from a linear combination of the $a_i$'s and the datapoints, the datapoints not on the margin do not contribute to $\\vec w$.**"
   ]
  },
  {
   "cell_type": "markdown",
   "metadata": {},
   "source": [
    "### 2. Naive Bayes for Spam Filtering."
   ]
  },
  {
   "cell_type": "markdown",
   "metadata": {},
   "source": [
    "In this problem we will use the Naive Bayes algorithm to fit a spam filter by hand. \n",
    "\n",
    "Spam filters are used in all email services to classify received emails as \"Spam\" or \"Not Spam\". A simple approach involves maintaining a vocabulary of words that commonly occur in \"Spam\" emails and classifying an email as \"Spam\" if the number of words from the dictionary that are present in the email is over a certain threshold. We are given the following vocabulary consisting of 15 words:\n",
    "\n",
    "`V` = {`secret`, `offer`, `low`, `price`, `valued`, `customer`, `today`, `dollar`, `million`, `sports`, `is`, `for`, `play`, `healthy`, `pizza`}\n",
    "\n",
    "For our training dataset, we are given the following 3 spam messages:\n",
    "\n",
    "- `million dollar offer`\n",
    "- `secret offer today`\n",
    "- `secret is secret`\n",
    "\n",
    "and 4 example non-spam messages:\n",
    "\n",
    "- `low price for valued customer`\n",
    "- `play secret sports today`\n",
    "- `sports is healthy`\n",
    "- `low price pizza`\n",
    "\n",
    "Recall that the Naive Bayes classifier assumes the probability of an input $\\vec x = [x_1, x_2, ..., x_n]^T$ depends on its class $y$. In our case, the input vector $\\vec x$ corresponding to each message has length $n = 15$, where each entre $x_i$ is equal to the number of times word $V_i$ occurs in $\\vec x$."
   ]
  },
  {
   "cell_type": "markdown",
   "metadata": {},
   "source": [
    "**a) Calculate $P(y=0)$ and $P(y=1)$ from from the training data, where $y=0$ corresponds to spam messages, and $y=1$ corresponds to non-spam messages.**"
   ]
  },
  {
   "cell_type": "markdown",
   "metadata": {},
   "source": [
    "$$ P(y=0) = 3/7 \\approx 42.9 \\% $$\n",
    "\n",
    "$$ P(y=1) = 4/7 \\approx 57.1 \\%  $$"
   ]
  },
  {
   "cell_type": "markdown",
   "metadata": {},
   "source": [
    "**b) List the feature vector $\\vec x$ for each span and non-spam message.**"
   ]
  },
  {
   "cell_type": "markdown",
   "metadata": {},
   "source": [
    "#### Spam messages:\n",
    "\n",
    "- `million dollar offer` = $[0,1,0,0,0,0,0,1,1,0,0,0,0,0,0]^T$\n",
    "- `secret offer today` = $[1,1,0,0,0,0,1,0,0,0,0,0,0,0,0]^T$\n",
    "- `secret is secret` = $[2,0,0,0,0,0,0,0,0,0,1,0,0,0,0]^T$\n",
    "\n",
    "#### Non-spam messages:\n",
    "\n",
    "- `low price for valued customer` = $[0,0,1,1,1,1,0,0,0,0,0,1,0,0,0]^T$\n",
    "- `play secret sports today` = $[1,0,0,0,0,0,1,0,0,1,0,0,1,0,0]^T$\n",
    "- `sports is healthy` = $[0,0,0,0,0,0,0,0,0,1,1,0,0,1,0]^T$\n",
    "- `low price pizza` = $[0,0,1,1,0,0,0,0,0,0,0,0,0,0,1]^T$\n"
   ]
  },
  {
   "cell_type": "markdown",
   "metadata": {},
   "source": [
    "**c) In the Naive Bayes model, the likelihood of a sentence with feature vector $\\vec x$ given class $c$ is:**\n",
    "\n",
    "$$ P(\\vec x|y=c) = \\prod_{k=1}^{n} = \\theta_{c,k}^{x_k} $$\n",
    "\n",
    "where $\\theta_{c,k} \\in (0,1)$ is the weight of word $k$ in class $c$, which satisfies $\\sum_{k=1}^{n} \\theta_{c,k} = 1, \\, \\forall c$.\n",
    "\n",
    "Calculate the maximum likelihood estimates of $\\theta_{0,1}$, $\\theta_{0,7}$, $\\theta_{1,1}$, $\\theta_{1,15}$ by maximizing $P(\\vec x|y=c)$ with respect to $\\theta_{c,k}$ and the given data.\n",
    "\n",
    "For example: $\\theta_{0,1}$ = $\\frac{\\# \\,\\, of \\,\\,'secret' \\,\\, in \\,\\, spam}{\\# \\,\\, of \\,\\, words \\,\\, in \\,\\, spam}$"
   ]
  },
  {
   "cell_type": "markdown",
   "metadata": {},
   "source": [
    "$\\theta_{0,1} = \\frac{3}{9} \\approx 0.333$\n",
    "\n",
    "$\\theta_{0,7} = \\frac{1}{9} \\approx 0.111$\n",
    "\n",
    "$\\theta_{1,1} = \\frac{1}{15} \\approx 0.067$\n",
    "\n",
    "$\\theta_{1,15} = \\frac{1}{15} \\approx 0.067$"
   ]
  },
  {
   "cell_type": "markdown",
   "metadata": {},
   "source": [
    "**d) Given a new message `today is secret`, decide whether it is spam or not spam based on the Naive bayes classifier learned from the above data.**"
   ]
  },
  {
   "cell_type": "markdown",
   "metadata": {},
   "source": [
    "Bayes formula is:\n",
    "\n",
    "$$ P(y|x) = \\frac{P(x|y)P(y)}{P(x)} $$\n",
    "\n",
    "Therefore:\n",
    "\n",
    "$$ P(Spam|x) = \\frac{P(x|Spam)P(Spam)}{P(x)} $$\n",
    "\n",
    "and \n",
    "\n",
    "$$ P(Not Spam|x) = \\frac{P(x|Not Spam)P(Not Spam)}{P(x)} $$\n",
    "\n",
    "Since both $P(Spam|x)$ and $P(Not Spam|x)$ are both normalized by $P(x)$, we can classify the new message without explicitly calculating $P(x)$. Instead we just need to calculate $ P(x|Spam)P(Spam) $ and $ P(x|Not Spam)P(Not Spam) $ and compare the unnormalized pseudo-probabilities."
   ]
  },
  {
   "cell_type": "markdown",
   "metadata": {},
   "source": [
    "$\\theta_{spam,today} = \\theta_{0,7} = \\frac{1}{9} \\approx 0.111$\n",
    "\n",
    "$\\theta_{spam,is} = \\theta_{0,11} = \\frac{1}{9} \\approx 0.111$\n",
    "\n",
    "$\\theta_{spam,secret} = \\theta_{0,1} = \\frac{3}{9} \\approx 0.333$\n",
    "\n",
    "$\\theta_{not-spam,today} = \\theta_{1,7} = \\frac{1}{15} \\approx 0.067$\n",
    "\n",
    "$\\theta_{not-spam,is} = \\theta_{1,11} = \\frac{1}{15} \\approx 0.067$\n",
    "\n",
    "$\\theta_{not-spam,secret} = \\theta_{1,1} = \\frac{1}{15} \\approx 0.067$"
   ]
  },
  {
   "cell_type": "markdown",
   "metadata": {},
   "source": [
    "$ P(today-is-secret|Spam)P(Spam) = \\frac{1}{9}*\\frac{1}{9}*\\frac{3}{9}*\\frac{3}{7} = \\frac{9}{5103} \\approx 0.001764 $\n",
    "\n",
    "$ P(today-is-secret|Not-Spam)P(Not-Spam) = \\frac{1}{15}*\\frac{1}{15}*\\frac{1}{15}*\\frac{4}{7} = \\frac{4}{23625} \\approx 0.000169 $\n",
    "\n",
    "Since: $$P(today-is-secret|Spam)P(Spam) > P(today-is-secret|Not-Spam)P(Not-Spam)$$ \n",
    "\n",
    "We conclude that **the message is spam**."
   ]
  },
  {
   "cell_type": "markdown",
   "metadata": {},
   "source": [
    "### 3. Comparing Bayes, Logistic, and KNN Classifiers."
   ]
  },
  {
   "cell_type": "markdown",
   "metadata": {},
   "source": [
    "#### a) Part One (Divorce Classification/Prediction)\n",
    "\n",
    "Build 3 classifiers using Naive Bayes, Logistic Regression, and KNN. Use the first 80% of the data for training and 20% for testing. "
   ]
  },
  {
   "cell_type": "code",
   "execution_count": 65,
   "metadata": {},
   "outputs": [],
   "source": [
    "import numpy as np\n",
    "import pandas as pd\n",
    "import matplotlib.pyplot as plt\n",
    "\n",
    "from sklearn.model_selection import train_test_split\n",
    "from sklearn.naive_bayes import GaussianNB # Gaussian Naive Bayes\n",
    "from sklearn.linear_model import LogisticRegression\n",
    "from sklearn.neighbors import KNeighborsClassifier\n",
    "from scipy.io import loadmat\n",
    "\n",
    "import warnings\n",
    "warnings.filterwarnings(\"ignore\")"
   ]
  },
  {
   "cell_type": "code",
   "execution_count": 3,
   "metadata": {},
   "outputs": [
    {
     "data": {
      "text/html": [
       "<div>\n",
       "<style scoped>\n",
       "    .dataframe tbody tr th:only-of-type {\n",
       "        vertical-align: middle;\n",
       "    }\n",
       "\n",
       "    .dataframe tbody tr th {\n",
       "        vertical-align: top;\n",
       "    }\n",
       "\n",
       "    .dataframe thead th {\n",
       "        text-align: right;\n",
       "    }\n",
       "</style>\n",
       "<table border=\"1\" class=\"dataframe\">\n",
       "  <thead>\n",
       "    <tr style=\"text-align: right;\">\n",
       "      <th></th>\n",
       "      <th>0</th>\n",
       "      <th>1</th>\n",
       "      <th>2</th>\n",
       "      <th>3</th>\n",
       "      <th>4</th>\n",
       "      <th>5</th>\n",
       "      <th>6</th>\n",
       "      <th>7</th>\n",
       "      <th>8</th>\n",
       "      <th>9</th>\n",
       "      <th>...</th>\n",
       "      <th>45</th>\n",
       "      <th>46</th>\n",
       "      <th>47</th>\n",
       "      <th>48</th>\n",
       "      <th>49</th>\n",
       "      <th>50</th>\n",
       "      <th>51</th>\n",
       "      <th>52</th>\n",
       "      <th>53</th>\n",
       "      <th>54</th>\n",
       "    </tr>\n",
       "  </thead>\n",
       "  <tbody>\n",
       "    <tr>\n",
       "      <td>0</td>\n",
       "      <td>1.560903</td>\n",
       "      <td>3.681587</td>\n",
       "      <td>3.450467</td>\n",
       "      <td>3.211998</td>\n",
       "      <td>-1.203045</td>\n",
       "      <td>0.597706</td>\n",
       "      <td>-0.970093</td>\n",
       "      <td>-0.750970</td>\n",
       "      <td>-0.511495</td>\n",
       "      <td>-0.133660</td>\n",
       "      <td>...</td>\n",
       "      <td>2.077401</td>\n",
       "      <td>1.184182</td>\n",
       "      <td>3.955069</td>\n",
       "      <td>2.608046</td>\n",
       "      <td>2.303629</td>\n",
       "      <td>1.721660</td>\n",
       "      <td>3.275018</td>\n",
       "      <td>1.761019</td>\n",
       "      <td>1.215237</td>\n",
       "      <td>1.0</td>\n",
       "    </tr>\n",
       "    <tr>\n",
       "      <td>1</td>\n",
       "      <td>4.153272</td>\n",
       "      <td>5.173858</td>\n",
       "      <td>4.100690</td>\n",
       "      <td>2.580173</td>\n",
       "      <td>3.305788</td>\n",
       "      <td>-1.505512</td>\n",
       "      <td>-0.029398</td>\n",
       "      <td>5.702657</td>\n",
       "      <td>2.230281</td>\n",
       "      <td>4.975496</td>\n",
       "      <td>...</td>\n",
       "      <td>3.467076</td>\n",
       "      <td>2.451984</td>\n",
       "      <td>3.504294</td>\n",
       "      <td>5.324240</td>\n",
       "      <td>4.480607</td>\n",
       "      <td>5.375248</td>\n",
       "      <td>2.270379</td>\n",
       "      <td>2.167944</td>\n",
       "      <td>2.191214</td>\n",
       "      <td>1.0</td>\n",
       "    </tr>\n",
       "    <tr>\n",
       "      <td>2</td>\n",
       "      <td>2.226241</td>\n",
       "      <td>1.575322</td>\n",
       "      <td>2.389117</td>\n",
       "      <td>2.725405</td>\n",
       "      <td>-0.304562</td>\n",
       "      <td>2.832803</td>\n",
       "      <td>1.787779</td>\n",
       "      <td>0.565755</td>\n",
       "      <td>1.328212</td>\n",
       "      <td>2.335353</td>\n",
       "      <td>...</td>\n",
       "      <td>1.200917</td>\n",
       "      <td>1.241794</td>\n",
       "      <td>2.207492</td>\n",
       "      <td>1.228034</td>\n",
       "      <td>0.870052</td>\n",
       "      <td>1.685040</td>\n",
       "      <td>2.341985</td>\n",
       "      <td>-0.444320</td>\n",
       "      <td>2.527452</td>\n",
       "      <td>1.0</td>\n",
       "    </tr>\n",
       "    <tr>\n",
       "      <td>3</td>\n",
       "      <td>3.553458</td>\n",
       "      <td>2.859042</td>\n",
       "      <td>2.928414</td>\n",
       "      <td>1.833241</td>\n",
       "      <td>1.271119</td>\n",
       "      <td>4.165213</td>\n",
       "      <td>2.078597</td>\n",
       "      <td>4.506175</td>\n",
       "      <td>2.521628</td>\n",
       "      <td>2.747315</td>\n",
       "      <td>...</td>\n",
       "      <td>3.196291</td>\n",
       "      <td>2.204824</td>\n",
       "      <td>3.664982</td>\n",
       "      <td>3.689508</td>\n",
       "      <td>2.577677</td>\n",
       "      <td>3.171884</td>\n",
       "      <td>2.164660</td>\n",
       "      <td>1.813024</td>\n",
       "      <td>1.376033</td>\n",
       "      <td>1.0</td>\n",
       "    </tr>\n",
       "    <tr>\n",
       "      <td>4</td>\n",
       "      <td>0.506547</td>\n",
       "      <td>1.419223</td>\n",
       "      <td>1.716153</td>\n",
       "      <td>1.319274</td>\n",
       "      <td>2.853840</td>\n",
       "      <td>0.047412</td>\n",
       "      <td>-0.016515</td>\n",
       "      <td>0.620795</td>\n",
       "      <td>1.202992</td>\n",
       "      <td>0.078347</td>\n",
       "      <td>...</td>\n",
       "      <td>1.806657</td>\n",
       "      <td>2.085539</td>\n",
       "      <td>2.012551</td>\n",
       "      <td>1.899477</td>\n",
       "      <td>1.510134</td>\n",
       "      <td>1.373350</td>\n",
       "      <td>2.551119</td>\n",
       "      <td>0.846321</td>\n",
       "      <td>-0.066858</td>\n",
       "      <td>1.0</td>\n",
       "    </tr>\n",
       "  </tbody>\n",
       "</table>\n",
       "<p>5 rows × 55 columns</p>\n",
       "</div>"
      ],
      "text/plain": [
       "         0         1         2         3         4         5         6   \\\n",
       "0  1.560903  3.681587  3.450467  3.211998 -1.203045  0.597706 -0.970093   \n",
       "1  4.153272  5.173858  4.100690  2.580173  3.305788 -1.505512 -0.029398   \n",
       "2  2.226241  1.575322  2.389117  2.725405 -0.304562  2.832803  1.787779   \n",
       "3  3.553458  2.859042  2.928414  1.833241  1.271119  4.165213  2.078597   \n",
       "4  0.506547  1.419223  1.716153  1.319274  2.853840  0.047412 -0.016515   \n",
       "\n",
       "         7         8         9   ...        45        46        47        48  \\\n",
       "0 -0.750970 -0.511495 -0.133660  ...  2.077401  1.184182  3.955069  2.608046   \n",
       "1  5.702657  2.230281  4.975496  ...  3.467076  2.451984  3.504294  5.324240   \n",
       "2  0.565755  1.328212  2.335353  ...  1.200917  1.241794  2.207492  1.228034   \n",
       "3  4.506175  2.521628  2.747315  ...  3.196291  2.204824  3.664982  3.689508   \n",
       "4  0.620795  1.202992  0.078347  ...  1.806657  2.085539  2.012551  1.899477   \n",
       "\n",
       "         49        50        51        52        53   54  \n",
       "0  2.303629  1.721660  3.275018  1.761019  1.215237  1.0  \n",
       "1  4.480607  5.375248  2.270379  2.167944  2.191214  1.0  \n",
       "2  0.870052  1.685040  2.341985 -0.444320  2.527452  1.0  \n",
       "3  2.577677  3.171884  2.164660  1.813024  1.376033  1.0  \n",
       "4  1.510134  1.373350  2.551119  0.846321 -0.066858  1.0  \n",
       "\n",
       "[5 rows x 55 columns]"
      ]
     },
     "metadata": {},
     "output_type": "display_data"
    },
    {
     "name": "stdout",
     "output_type": "stream",
     "text": [
      "               0           1           2           3           4           5   \\\n",
      "count  170.000000  170.000000  170.000000  170.000000  170.000000  170.000000   \n",
      "mean     1.770777    1.633135    1.798309    1.370588    1.342256    0.847017   \n",
      "std      1.929021    1.740227    1.698275    1.821564    1.855237    1.348739   \n",
      "min     -2.023485   -1.740792   -2.566943   -3.519291   -2.130629   -2.767585   \n",
      "25%      0.074385    0.203852    0.692089   -0.081704   -0.092502   -0.214556   \n",
      "50%      1.906986    1.571904    1.735973    1.265344    1.161074    0.706923   \n",
      "75%      3.386862    2.896925    3.107852    2.745149    2.840452    1.760754   \n",
      "max      7.131655    5.468516    6.252416    6.348411    6.386664    4.452201   \n",
      "\n",
      "               6           7           8           9   ...          45  \\\n",
      "count  170.000000  170.000000  170.000000  170.000000  ...  170.000000   \n",
      "mean     0.473006    1.433578    1.418732    1.463634  ...    2.500142   \n",
      "std      1.307073    1.784217    1.948064    1.585273  ...    1.704166   \n",
      "min     -2.137944   -2.361706   -2.948432   -1.803600  ...   -2.571465   \n",
      "25%     -0.409685    0.080323   -0.266338    0.243659  ...    1.198083   \n",
      "50%      0.452470    1.218021    1.209114    1.349238  ...    2.787483   \n",
      "75%      1.145530    2.884891    3.047076    2.640263  ...    3.904251   \n",
      "max      5.439817    5.702657    5.612289    4.975496  ...    5.650073   \n",
      "\n",
      "               46          47          48          49          50          51  \\\n",
      "count  170.000000  170.000000  170.000000  170.000000  170.000000  170.000000   \n",
      "mean     2.252229    2.692542    2.384331    2.434220    2.381148    2.383196   \n",
      "std      1.824543    1.462570    1.823294    1.761866    1.579506    1.813788   \n",
      "min     -2.222570   -1.586118   -1.369669   -1.804787   -1.646828   -1.954843   \n",
      "25%      0.840040    1.840819    0.968942    1.095527    1.393129    0.951158   \n",
      "50%      2.494819    2.775334    2.370586    2.563965    2.328561    2.480274   \n",
      "75%      3.672607    3.686155    3.679450    3.709652    3.383715    3.739805   \n",
      "max      5.714706    5.908155    6.559038    6.340313    6.094200    6.864293   \n",
      "\n",
      "               52          53          54  \n",
      "count  170.000000  170.000000  170.000000  \n",
      "mean     2.100934    1.951431    0.494118  \n",
      "std      1.873251    1.849212    0.501442  \n",
      "min     -3.980885   -1.799863    0.000000  \n",
      "25%      0.713322    0.332224    0.000000  \n",
      "50%      2.324301    2.051469    0.000000  \n",
      "75%      3.562613    3.386587    1.000000  \n",
      "max      6.472725    6.272800    1.000000  \n",
      "\n",
      "[8 rows x 55 columns]\n"
     ]
    }
   ],
   "source": [
    "data = pd.read_csv('q3.csv', header=None)\n",
    "display(data.head())\n",
    "print(data.describe())\n",
    "\n",
    "data=data.values"
   ]
  },
  {
   "cell_type": "markdown",
   "metadata": {},
   "source": [
    "Here we can see that the predictors are all of similar magnitude, and appear to be normally distributed. If this were a real-world dataset, it would be best to look for covariance between predictors, and test if they are normally distributed. It might also be best to normalize the data. However for the sake of this homework, I'll be building models off of the unnormalized data, and assuming that each predictor is normally distributed."
   ]
  },
  {
   "cell_type": "code",
   "execution_count": 4,
   "metadata": {},
   "outputs": [
    {
     "name": "stdout",
     "output_type": "stream",
     "text": [
      "------------------------------------ Naive Bayes ------------------------------------ \n",
      "We accurately labeled 32 points out of 34 in the test set,for an accuracy of 94.12%\n",
      "\n",
      "\n",
      "-------------------------------- Logistic Regression -------------------------------- \n",
      "We accurately labeled 31 points out of 34 in the test set,for an accuracy of 91.18%\n",
      "\n",
      "\n",
      "-------------------------------- K-Nearest Neighbors -------------------------------- \n",
      "We accurately labeled 32 points out of 34 in the test set,for an accuracy of 94.12%\n",
      "\n",
      "\n"
     ]
    }
   ],
   "source": [
    "X = data[:,:-1]\n",
    "y = data[:,-1]\n",
    "\n",
    "X_train, X_test, y_train, y_test = train_test_split(X, y, test_size=0.2, random_state=0, shuffle=True)\n",
    "\n",
    "# Naive Bayes\n",
    "gnb = GaussianNB().fit(X_train, y_train)\n",
    "y_pred_gnb = gnb.predict(X_test)\n",
    "print('------------------------------------ Naive Bayes ------------------------------------ ')\n",
    "print(f'We accurately labeled {(y_test == y_pred_gnb).sum()} points out of {y_test.shape[0]} in the test set,'\\\n",
    "      f'for an accuracy of {round((y_test == y_pred_gnb).sum()/y_test.shape[0] *100, 2)}%')\n",
    "print('\\n')\n",
    "\n",
    "# Logistic Regression\n",
    "lr = LogisticRegression(random_state=0).fit(X_train, y_train)\n",
    "y_pred_logreg = lr.predict(X_test)\n",
    "print('-------------------------------- Logistic Regression -------------------------------- ')\n",
    "print(f'We accurately labeled {(y_test == y_pred_logreg).sum()} points out of {y_test.shape[0]} in the test set,'\\\n",
    "      f'for an accuracy of {round((y_test == y_pred_logreg).sum()/y_test.shape[0] *100, 2)}%')\n",
    "print('\\n')\n",
    "\n",
    "# KNN\n",
    "knn = KNeighborsClassifier(n_neighbors=3).fit(X_train, y_train)\n",
    "y_pred_knn = knn.predict(X_test)\n",
    "print('-------------------------------- K-Nearest Neighbors -------------------------------- ')\n",
    "print(f'We accurately labeled {(y_test == y_pred_knn).sum()} points out of {y_test.shape[0]} in the test set,'\\\n",
    "      f'for an accuracy of {round((y_test == y_pred_knn).sum()/y_test.shape[0] *100, 2)}%')\n",
    "print('\\n')\n"
   ]
  },
  {
   "cell_type": "markdown",
   "metadata": {},
   "source": [
    "**i) Report testing accuracy for each of the three classifiers. Comment on their performance: which performs the best and make a guess why they perform best in this setting.**"
   ]
  },
  {
   "cell_type": "markdown",
   "metadata": {},
   "source": [
    "All 3 classifiers performed very well. The Naive Bayes and KNN classifiers both accurately labeled 32/34 datapoints in the test set, while the Logistic Regression classifier was slightly less accurate at 31/34 correct labels. \n",
    "\n",
    "The Naive Bayes likely performed so well because we assume the data came from a Gaussian distribution, which is why we picked a Gaussian Naive Bayes approach. This method would have likely performed much worse if we attempted to fit a model using a different distribution. \n",
    "\n",
    "The KNN model also does not assume any distribution of the data, which may be one reason it performs so well. Also, by using `k=3`, I chose a rather small number of neighbors. This may be one reason that the model performed so well.\n",
    "\n",
    "The Logistic Regression model assumes (among other things) that the log of the odds ratio can be modeled as a linear combination of the input variables. This might be one reason that the logistic regression model performed slightly worse than Naive Bayes and KNN. It might also be that the predictors are not entirely linearly independent (which is probably likely).\n",
    "\n"
   ]
  },
  {
   "cell_type": "markdown",
   "metadata": {},
   "source": [
    "**ii) Use the first two features to train three new classifiers. Plot the data points and decision boundary of each classifier. Comment on the difierence between the decision boundary for the three classifiers. Please clearly represent the data points with different labels using different colors.**"
   ]
  },
  {
   "cell_type": "code",
   "execution_count": 63,
   "metadata": {},
   "outputs": [
    {
     "name": "stdout",
     "output_type": "stream",
     "text": [
      "------------------------------------ Naive Bayes ------------------------------------ \n",
      "We accurately labeled 29 points out of 34 in the test set,for an accuracy of 85.29%\n",
      "\n",
      "\n",
      "-------------------------------- Logistic Regression -------------------------------- \n",
      "We accurately labeled 29 points out of 34 in the test set,for an accuracy of 85.29%\n",
      "\n",
      "\n",
      "-------------------------------- K-Nearest Neighbors -------------------------------- \n",
      "We accurately labeled 28 points out of 34 in the test set,for an accuracy of 82.35%\n",
      "\n",
      "\n",
      "The training data is shown below with a translucent circle, and the test data is shown below with an opaque \"+\"\n",
      "Blue represents y=0 and red represents y=1\n"
     ]
    },
    {
     "data": {
      "image/png": "[encoded data removed]",
      "text/plain": [
       "<Figure size 1080x360 with 3 Axes>"
      ]
     },
     "metadata": {
      "needs_background": "light"
     },
     "output_type": "display_data"
    }
   ],
   "source": [
    "X = data[:,0:2]\n",
    "y = data[:,-1]\n",
    "\n",
    "X_train, X_test, y_train, y_test = train_test_split(X, y, test_size=0.2, random_state=0, shuffle=True)\n",
    "\n",
    "xx, yy = np.meshgrid(np.linspace(-4, 8.5, 50),\n",
    "                     np.linspace(-2, 6, 50))\n",
    "\n",
    "# Naive Bayes\n",
    "gnb = GaussianNB().fit(X_train, y_train)\n",
    "y_pred_gnb = gnb.predict(X_test)\n",
    "Z_nb = gnb.predict_proba(np.c_[xx.ravel(), yy.ravel()])   # Calculate the decision boundary\n",
    "Z_nb = Z_nb[:, 1].reshape(xx.shape)\n",
    "\n",
    "print('------------------------------------ Naive Bayes ------------------------------------ ')\n",
    "print(f'We accurately labeled {(y_test == y_pred_gnb).sum()} points out of {y_test.shape[0]} in the test set,'\\\n",
    "      f'for an accuracy of {round((y_test == y_pred_gnb).sum()/y_test.shape[0] *100, 2)}%')\n",
    "print('\\n')\n",
    "\n",
    "# Logistic Regression\n",
    "lr = LogisticRegression(random_state=0).fit(X_train, y_train)\n",
    "y_pred_logreg = lr.predict(X_test)\n",
    "Z_lr = lr.predict_proba(np.c_[xx.ravel(), yy.ravel()])   # Calculate the decision boundary\n",
    "Z_lr = Z_lr[:, 1].reshape(xx.shape)\n",
    "\n",
    "print('-------------------------------- Logistic Regression -------------------------------- ')\n",
    "print(f'We accurately labeled {(y_test == y_pred_logreg).sum()} points out of {y_test.shape[0]} in the test set,'\\\n",
    "      f'for an accuracy of {round((y_test == y_pred_logreg).sum()/y_test.shape[0] *100, 2)}%')\n",
    "print('\\n')\n",
    "\n",
    "# KNN\n",
    "knn = KNeighborsClassifier(n_neighbors=3).fit(X_train, y_train)\n",
    "y_pred_knn = knn.predict(X_test)\n",
    "Z_knn = knn.predict_proba(np.c_[xx.ravel(), yy.ravel()])   # Calculate the decision boundary\n",
    "Z_knn = Z_knn[:, 1].reshape(xx.shape)\n",
    "print('-------------------------------- K-Nearest Neighbors -------------------------------- ')\n",
    "print(f'We accurately labeled {(y_test == y_pred_knn).sum()} points out of {y_test.shape[0]} in the test set,'\\\n",
    "      f'for an accuracy of {round((y_test == y_pred_knn).sum()/y_test.shape[0] *100, 2)}%')\n",
    "print('\\n')\n",
    "\n",
    "print('The training data is shown below with a translucent circle, and the test data is shown below with an opaque \"+\"')\n",
    "print('Blue represents y=0 and red represents y=1')\n",
    "\n",
    "fig, (ax1, ax2, ax3) = plt.subplots(1,3, figsize=(15,5))\n",
    "\n",
    "# Naive Bayes Plots\n",
    "ax1.scatter(X_train[:,0], X_train[:,1],c=y_train, cmap='bwr', marker='o', alpha=0.25)\n",
    "ax1.scatter(X_test[:,0], X_test[:,1],c=y_test, cmap='bwr', marker='+')\n",
    "ax1.contour(xx, yy, Z_nb, [0.5], colors='k')\n",
    "ax1.set_title('Naive Bayes Classifier')\n",
    "ax1.set_xlabel('Feature 1')\n",
    "ax1.set_ylabel('Feature 2')\n",
    "\n",
    "# Logistic Regression Plots Plots\n",
    "ax2.scatter(X_train[:,0], X_train[:,1],c=y_train, cmap='bwr', marker='o', alpha=0.25)\n",
    "ax2.scatter(X_test[:,0], X_test[:,1],c=y_test, cmap='bwr', marker='+')\n",
    "ax2.contour(xx, yy, Z_lr, [0.5], colors='k')\n",
    "ax2.set_title('Logistic Regression Classifier')\n",
    "ax2.set_xlabel('Feature 1')\n",
    "ax2.set_ylabel('Feature 2')\n",
    "\n",
    "# KNN Plots Plots\n",
    "ax3.scatter(X_train[:,0], X_train[:,1],c=y_train, cmap='bwr', marker='o', alpha=0.25)\n",
    "ax3.scatter(X_test[:,0], X_test[:,1],c=y_test, cmap='bwr', marker='+')\n",
    "ax3.contour(xx, yy, Z_knn, [0.5], colors='k')\n",
    "ax3.set_title('KNN Classifier')\n",
    "ax3.set_xlabel('Feature 1')\n",
    "ax3.set_ylabel('Feature 2')\n",
    "\n",
    "plt.show()\n"
   ]
  },
  {
   "cell_type": "markdown",
   "metadata": {},
   "source": [
    "When the decision boundary is plotted, it is much easier to see the differences between how these classifiers work.\n",
    "\n",
    "The **Naive Bayes** classifier has a very smooth decision boundary. This is expected since in this case the data is represented by two gaussian distributions, and the decision boundary is where the two distributions have equal probability. This makes sense geometrically, if you were to picture two smooth, oval shaped mountains, and the decisoin boundary is the valley between them.\n",
    "\n",
    "The **logistic regression** decision boundary is a straight line. This makes sense when you consider the decision boundary represents where the probability is 0.5. Thus...\n",
    "\n",
    "$$ \\frac{1}{1 + e^{-\\theta x}} = 0.5 $$ \n",
    "\n",
    "$$ 1 = e^{-\\theta x} $$\n",
    "\n",
    "$$ 0 = -\\theta x  $$\n",
    "\n",
    "This is a lienar function. In terms or classification accuracy, I could see this being problematic for datapoints that are near the decision boundary, but far away from the other datapoints. \n",
    "\n",
    "The **K-Nearest Neighbors** classifier has a decision boundary that is very jagged. This is because I used a small value for k (`k=3`). This can cause the classifier to overfit to the training data, which likely is happening here. However **I'm leaving it as is for the sake of the discussion**, although **in practice a larger value for k should be used**."
   ]
  },
  {
   "cell_type": "markdown",
   "metadata": {},
   "source": [
    "#### b) Part Two (Handwritten Digits Classification)\n",
    "\n",
    "Repeat the above using the MNIST dataset. Here, give digit `6` label `y=1` and digit `2` label `y=0`.\n",
    "\n",
    "Comment on their performance: which performs the best and make a guess why."
   ]
  },
  {
   "cell_type": "code",
   "execution_count": 92,
   "metadata": {},
   "outputs": [
    {
     "name": "stdout",
     "output_type": "stream",
     "text": [
      "------------------------------------ Naive Bayes ------------------------------------ \n",
      "We accurately labeled 310 points out of 398 in the test set,for an accuracy of 77.89%\n",
      "\n",
      "\n",
      "-------------------------------- Logistic Regression -------------------------------- \n",
      "We accurately labeled 390 points out of 398 in the test set,for an accuracy of 97.99%\n",
      "\n",
      "\n",
      "-------------------------------- K-Nearest Neighbors -------------------------------- \n",
      "We accurately labeled 396 points out of 398 in the test set,for an accuracy of 99.5%\n",
      "\n",
      "\n"
     ]
    }
   ],
   "source": [
    "X = loadmat('data.mat')['data'].T\n",
    "y = loadmat('label.mat')['trueLabel'].T\n",
    "y = (y-2)/4     # Set all `2` digits to 0, and all `6` digits to 1\n",
    "\n",
    "X_train, X_test, y_train, y_test = train_test_split(X, y, test_size=0.2, random_state=0, shuffle=True)\n",
    "y_train = y_train.reshape(y_train.shape[0])\n",
    "y_test = y_test.reshape(y_test.shape[0])\n",
    "\n",
    "\n",
    "# Naive Bayes\n",
    "gnb = GaussianNB().fit(X_train, y_train)\n",
    "y_pred_gnb = gnb.predict(X_test)\n",
    "print('------------------------------------ Naive Bayes ------------------------------------ ')\n",
    "print(f'We accurately labeled {(y_test == y_pred_gnb).sum()} points out of {y_test.shape[0]} in the test set,'\\\n",
    "      f'for an accuracy of {round((y_test == y_pred_gnb).sum()/y_test.shape[0] *100, 2)}%')\n",
    "print('\\n')\n",
    "\n",
    "# Logistic Regression\n",
    "lr = LogisticRegression(random_state=0).fit(X_train, y_train)\n",
    "y_pred_logreg = lr.predict(X_test)\n",
    "print('-------------------------------- Logistic Regression -------------------------------- ')\n",
    "print(f'We accurately labeled {(y_test == y_pred_logreg).sum()} points out of {y_test.shape[0]} in the test set,'\\\n",
    "      f'for an accuracy of {round((y_test == y_pred_logreg).sum()/y_test.shape[0] *100, 2)}%')\n",
    "print('\\n')\n",
    "\n",
    "# KNN\n",
    "knn = KNeighborsClassifier(n_neighbors=10).fit(X_train, y_train)\n",
    "y_pred_knn = knn.predict(X_test)\n",
    "print('-------------------------------- K-Nearest Neighbors -------------------------------- ')\n",
    "print(f'We accurately labeled {(y_test == y_pred_knn).sum()} points out of {y_test.shape[0]} in the test set,'\\\n",
    "      f'for an accuracy of {round((y_test == y_pred_knn).sum()/y_test.shape[0] *100, 2)}%')\n",
    "print('\\n')\n"
   ]
  },
  {
   "cell_type": "markdown",
   "metadata": {},
   "source": [
    "The **KNN classifier performed best** at 99.5% accuracy on the test set, followed by **logistic regression** with 97.99% accuracy on the test set, and **naive Bayes** with 77.89% accuracy on the test set. \n",
    "\n",
    "For this trial, I upped the number of neighbors to `k=10`, in order to help the model not overfit on the training data. This could be one reason the KNN classifier performed best. \n",
    "\n",
    "One reason that the naive Bayes mode l might perform worst is that the data does not come from a 784-variable Gaussian distribution. In fact, I'm surprised the Naive Bayes model was able to fit the data easily considering the numerical issues that arise when calculating the probability of any given point coming from a Gaussian with that many variables. \n",
    "\n",
    "I was surprised by how well the logistic regression performed, although the digits `2` and `6` are very different. I would like to know how well these three models perform at separating similar digits like `3` and `8`, or `1` and `7`. "
   ]
  },
  {
   "cell_type": "markdown",
   "metadata": {},
   "source": [
    "## Thank you for grading my homework!"
   ]
  }
 ],
 "metadata": {
  "kernelspec": {
   "display_name": "Python 3",
   "language": "python",
   "name": "python3"
  },
  "language_info": {
   "codemirror_mode": {
    "name": "ipython",
    "version": 3
   },
   "file_extension": ".py",
   "mimetype": "text/x-python",
   "name": "python",
   "nbconvert_exporter": "python",
   "pygments_lexer": "ipython3",
   "version": "3.7.4"
  }
 },
 "nbformat": 4,
 "nbformat_minor": 2
}
